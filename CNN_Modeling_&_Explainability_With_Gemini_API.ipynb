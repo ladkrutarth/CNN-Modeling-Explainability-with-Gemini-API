{
  "nbformat": 4,
  "nbformat_minor": 0,
  "metadata": {
    "colab": {
      "provenance": [],
      "authorship_tag": "ABX9TyPrRwob6FytQQpyRXG2r5zC",
      "include_colab_link": true
    },
    "kernelspec": {
      "name": "python3",
      "display_name": "Python 3"
    },
    "language_info": {
      "name": "python"
    }
  },
  "cells": [
    {
      "cell_type": "markdown",
      "metadata": {
        "id": "view-in-github",
        "colab_type": "text"
      },
      "source": [
        "<a href=\"https://colab.research.google.com/github/ladkrutarth/CNN-Modeling-Explainability-with-Gemini-API/blob/main/CNN_Modeling_%26_Explainability_With_Gemini_API.ipynb\" target=\"_parent\"><img src=\"https://colab.research.google.com/assets/colab-badge.svg\" alt=\"Open In Colab\"/></a>"
      ]
    },
    {
      "cell_type": "markdown",
      "source": [
        "### Load Required Libraries"
      ],
      "metadata": {
        "id": "Yu1cFi9p9eQa"
      }
    },
    {
      "cell_type": "code",
      "execution_count": 24,
      "metadata": {
        "id": "QjGcBHxe844Y"
      },
      "outputs": [],
      "source": [
        "import torch\n",
        "import torch.nn as nn\n",
        "import torch.optim as optim\n",
        "import torchvision\n",
        "import torchvision.transforms as transforms\n",
        "import matplotlib.pyplot as plt\n",
        "import numpy as np\n",
        "import requests\n",
        "import json"
      ]
    },
    {
      "cell_type": "markdown",
      "source": [
        "### Load and Preprocess Data"
      ],
      "metadata": {
        "id": "rEbxMJ6c9uT6"
      }
    },
    {
      "cell_type": "code",
      "source": [
        "transform = transforms.Compose([transforms.ToTensor(),\n",
        "transforms.Normalize((0.5,), (0.5,))])\n",
        "\n",
        "trainset = torchvision.datasets.MNIST(root='./data', train=True,\n",
        "download=True, transform=transform)\n",
        "trainloader = torch.utils.data.DataLoader(trainset, batch_size=64,\n",
        "shuffle=True)\n",
        "testset = torchvision.datasets.MNIST(root='./data', train=False,\n",
        "download=True, transform=transform)\n",
        "testloader = torch.utils.data.DataLoader(testset, batch_size=64,\n",
        "shuffle=False)"
      ],
      "metadata": {
        "id": "XIDtFJh19z6S"
      },
      "execution_count": 25,
      "outputs": []
    },
    {
      "cell_type": "markdown",
      "source": [
        "### Define the CNN Model\n",
        "\n"
      ],
      "metadata": {
        "id": "9ntjn_KB-PJM"
      }
    },
    {
      "cell_type": "code",
      "source": [
        "class CNN(nn.Module):\n",
        "    def __init__(self):\n",
        "        super(CNN, self).__init__()\n",
        "        self.conv1 = nn.Conv2d(1, 32, kernel_size=3, stride=1, padding=1)\n",
        "        self.pool = nn.MaxPool2d(2, 2)\n",
        "        self.conv2 = nn.Conv2d(32, 64, kernel_size=3, stride=1, padding=1)\n",
        "        self.fc1 = nn.Linear(64 * 7 * 7, 128)\n",
        "        self.fc2 = nn.Linear(128, 10)\n",
        "\n",
        "    def forward(self, x):\n",
        "        x = self.pool(torch.relu(self.conv1(x)))\n",
        "        x = self.pool(torch.relu(self.conv2(x)))\n",
        "        x = x.view(-1, 64 * 7 * 7)\n",
        "        x = torch.relu(self.fc1(x))\n",
        "        x = self.fc2(x)\n",
        "        return x\n",
        "\n",
        "model = CNN()"
      ],
      "metadata": {
        "id": "ccEfRKFY9shD"
      },
      "execution_count": 26,
      "outputs": []
    },
    {
      "cell_type": "markdown",
      "source": [
        "### Train the Model"
      ],
      "metadata": {
        "id": "Oe_yYWg7BPsD"
      }
    },
    {
      "cell_type": "code",
      "source": [
        "criterion = nn.CrossEntropyLoss()\n",
        "optimizer = optim.Adam(model.parameters(), lr=0.001)\n",
        "for epoch in range(3):\n",
        "    running_loss = 0.0  # Indented this line to be inside the loop\n",
        "    for images, labels in trainloader:\n",
        "        optimizer.zero_grad()\n",
        "        outputs = model(images)\n",
        "        loss = criterion(outputs, labels)\n",
        "        loss.backward()\n",
        "        optimizer.step()\n",
        "        running_loss += loss.item()\n",
        "    print(f\"Epoch {epoch+1}, Loss: {running_loss/len(trainloader)}\")"
      ],
      "metadata": {
        "colab": {
          "base_uri": "https://localhost:8080/"
        },
        "id": "R9VW5RJY9svv",
        "outputId": "f076fbb5-4294-4f88-e445-65f6c103d923"
      },
      "execution_count": null,
      "outputs": [
        {
          "output_type": "stream",
          "name": "stdout",
          "text": [
            "Epoch 1, Loss: 0.15210699207404615\n",
            "Epoch 2, Loss: 0.04396525901846036\n",
            "Epoch 3, Loss: 0.028591514397936283\n"
          ]
        }
      ]
    },
    {
      "source": [
        "correct = 0\n",
        "total = 0\n",
        "with torch.no_grad():\n",
        "    # Indented the for loop to be within the 'with' block\n",
        "    for images, labels in testloader:\n",
        "        outputs = model(images)\n",
        "        _, predicted = torch.max(outputs, 1)\n",
        "        total += labels.size(0)\n",
        "        correct += (predicted == labels).sum().item()\n",
        "print(f\"Test Accuracy: {100 * correct / total:.2f}%\")"
      ],
      "cell_type": "code",
      "metadata": {
        "colab": {
          "base_uri": "https://localhost:8080/"
        },
        "id": "XcsHh2byDce8",
        "outputId": "53d75bf0-f9ff-465b-8fa5-feb1b4aa3be9"
      },
      "execution_count": null,
      "outputs": [
        {
          "output_type": "stream",
          "name": "stdout",
          "text": [
            "Test Accuracy: 99.10%\n"
          ]
        }
      ]
    },
    {
      "cell_type": "markdown",
      "source": [
        "# CNN Prediction & Explainability with Gemini API"
      ],
      "metadata": {
        "id": "J_dnPZrQDjaV"
      }
    },
    {
      "cell_type": "code",
      "source": [
        "import random\n",
        "import matplotlib.pyplot as plt\n",
        "\n",
        "\n",
        "dataiter = iter(testloader)\n",
        "images, labels = next(dataiter)\n",
        "index = random.randint(0, len(images) - 1)\n",
        "img = images[index].squeeze()\n",
        "true_label = labels[index].item()\n",
        "output = model(images[index].unsqueeze(0))\n",
        "predicted_label = torch.argmax(output).item()\n",
        "plt.imshow(img.numpy(), cmap='gray')\n",
        "plt.title(f\"Predicted: {predicted_label}, True: {true_label}\")\n",
        "plt.show()"
      ],
      "metadata": {
        "colab": {
          "base_uri": "https://localhost:8080/",
          "height": 452
        },
        "id": "oTh4Com-Dquh",
        "outputId": "e6edf984-c252-4c1c-dea7-bf9f9d5bfa41"
      },
      "execution_count": 84,
      "outputs": [
        {
          "output_type": "display_data",
          "data": {
            "text/plain": [
              "<Figure size 640x480 with 1 Axes>"
            ],
            "image/png": "[encoded data removed]"
          },
          "metadata": {}
        }
      ]
    },
    {
      "source": [
        " #Replace with your actual API key\n",
        "#GEMINI_API_KEY = \"\" Replace with my actual API key\n",
        "\n",
        "# Updated API endpoint\n",
        "GEMINI_ENDPOINT = \"https://generativelanguage.googleapis.com/v1/models/gemini-pro:generateContent\"\n",
        "\n",
        "headers = {\n",
        "\"Content-Type\": \"application/json\"\n",
        "}\n",
        "\n",
        "# Example predicted label\n",
        "predicted_label = {predicted_label} # Change this dynamically\n",
        "\n",
        "# Corrected JSON structure\n",
        "data = {\n",
        "\"contents\": [\n",
        "{\n",
        "\"role\": \"user\",\n",
        "\"parts\": [{\"text\": f\"The model predicted the digit {predicted_label} for an image. Explain why it might have made this prediction.\"}]\n",
        "}\n",
        "]\n",
        "}\n",
        "\n",
        "# Make the API request\n",
        "response = requests.post(f\"{GEMINI_ENDPOINT}?key={GEMINI_API_KEY}\", headers=headers, json=data)\n",
        "\n",
        "# Check for errors\n",
        "if response.status_code != 200:\n",
        "  print(f\"Error: {response.status_code}\")\n",
        "  print(response.text) # Print actual error message from API\n",
        "else:\n",
        "  response_json = response.json()\n",
        "\n",
        "# Ensure response contains candidates\n",
        "if \"candidates\" in response_json and len(response_json[\"candidates\"]) > 0:\n",
        "  explanation = response_json[\"candidates\"][0][\"content\"][\"parts\"][0][\"text\"]\n",
        "  print(\"Gemini Explanation:\", explanation)\n",
        "else:\n",
        "  print(\"No valid response received from the API.\")"
      ],
      "cell_type": "code",
      "metadata": {
        "colab": {
          "base_uri": "https://localhost:8080/"
        },
        "id": "0sfDZr5pZxdA",
        "outputId": "0e0f4178-11f4-4c3d-efff-cdb2f884aa84"
      },
      "execution_count": 85,
      "outputs": [
        {
          "output_type": "stream",
          "name": "stdout",
          "text": [
            "Gemini Explanation: There are several possible reasons why the model might have predicted the digit 2 for an image:\n",
            "\n",
            "* **The image may have strong features that resemble the digit 2.** For example, the image may have a curved line at the top and a straight line at the bottom, which are characteristic features of the digit 2.\n",
            "* **The model may have been trained on a dataset that contains a lot of images of the digit 2.** As a result, the model may have learned to associate these features with the digit 2.\n",
            "* **The model may have been overfit to the training data.** This means that the model has learned to perform very well on the training data, but it may not generalize well to new data. As a result, the model may make incorrect predictions on images that are not similar to the images in the training data.\n",
            "* **The image may be noisy or distorted.** This can make it difficult for the model to recognize the digit correctly.\n",
            "* **The model may not have been trained on a large enough dataset.** This can limit the model's ability to generalize to new data.\n",
            "\n",
            "To improve the model's accuracy, you can try the following:\n",
            "\n",
            "* **Use a larger and more diverse training dataset.** This will help the model to learn a more generalizable representation of the digit 2.\n",
            "* **Regularize the model to prevent overfitting.** This can help the model to generalize better to new data.\n",
            "* **Use a more robust model.** This can help the model to handle noisy or distorted images.\n",
            "\n",
            "By following these steps, you can improve the model's accuracy and make it more reliable for predicting the digit 2 in images.\n"
          ]
        }
      ]
    },
    {
      "cell_type": "markdown",
      "source": [],
      "metadata": {
        "id": "Hsw28iZCZLON"
      }
    },
    {
      "cell_type": "markdown",
      "source": [
        "# 3. Discuss Explainability\n",
        "\n",
        "\n",
        "##  Compare explanations for correct vs. incorrect predictions.\n",
        "\n",
        "Correct Predictions:  For a correct prediction, the explanation often highlights features or patterns in the input data that are genuinely relevant to the task.  For example, if an image classifier correctly identifies a cat, the explanation might point to the cat's eyes, ears, and fur texture.  These are features humans also use to identify cats.  The model's internal \"reasoning\" (though we shouldn't anthropomorphize too much) aligns with human intuition.  The explanation will likely cite these relevant features as contributing to the positive classification.\n",
        "\n",
        "Incorrect Predictions:  Explanations for incorrect predictions reveal a mismatch between the model's focus and human understanding.  The model might be focusing on spurious correlations or irrelevant details.  For example, it might misclassify a dog as a cat because the background of the image contains a cat-related object.  The explanation, in this case, might highlight the background object rather than the dog itself, revealing the model's flawed reasoning.  Or, in a more complex scenario, an LLM might misinterpret a sentence due to an unusual phrasing, and the explanation would point to that phrasing, showing where the model went astray.\n",
        "\n",
        "## Discuss how LLMs enhance model interpretability.\n",
        "\n",
        "Researchers can probe the internal representations of LLMs to understand what kind of information is encoded at different layers.  This can reveal whether the model is learning syntactic structures, semantic concepts, or other relevant features.  By analyzing the activations of different neurons or layers, we can get a glimpse into the model's internal \"thinking\n",
        "\n",
        "\n",
        "## Highlight the importance of explainability in AI application\n",
        "\n",
        "Explainability can reveal biases in the model's predictions.For example, if a model consistently discriminates against a certain demographic group, explainability can help identify the features or patterns that are causing this bias.\n",
        "\n"
      ],
      "metadata": {
        "id": "P718X9Etx0xi"
      }
    },
    {
      "cell_type": "markdown",
      "source": [
        "# CIFAR-10 Classification"
      ],
      "metadata": {
        "id": "SthlDu0U-DNF"
      }
    },
    {
      "source": [
        "class CIFARCNN(nn.Module):\n",
        "    def __init__(self):\n",
        "        super(CIFARCNN, self).__init__()\n",
        "        self.conv1 = nn.Conv2d(3, 16, kernel_size=3, stride=1, padding=1)\n",
        "        self.pool = nn.MaxPool2d(2, 2)\n",
        "        self.conv2 = nn.Conv2d(16, 32, kernel_size=3, stride=1, padding=1)\n",
        "        self.fc1 = nn.Linear(32 * 8 * 8, 64)\n",
        "        self.fc2 = nn.Linear(64, 10)\n",
        "\n",
        "    def forward(self, x):\n",
        "        x = self.pool(torch.relu(self.conv1(x)))\n",
        "        x = self.pool(torch.relu(self.conv2(x)))\n",
        "        x = x.view(-1, 32 * 8 * 8)\n",
        "        x = torch.relu(self.fc1(x))\n",
        "        x = self.fc2(x)\n",
        "        return x\n",
        "\n",
        "model_cifar = CIFARCNN()"
      ],
      "cell_type": "code",
      "metadata": {
        "id": "GYBZyuDYJQo-"
      },
      "execution_count": null,
      "outputs": []
    },
    {
      "source": [
        "criterion = nn.CrossEntropyLoss()\n",
        "optimizer = optim.Adam(model.parameters(), lr=0.001)\n",
        "for epoch in range(2):\n",
        "    running_loss = 0.0  # Indented this line to be inside the loop\n",
        "    for images, labels in trainloader:\n",
        "        optimizer.zero_grad()\n",
        "        outputs = model(images)\n",
        "        loss = criterion(outputs, labels)\n",
        "        loss.backward()\n",
        "        optimizer.step()\n",
        "        running_loss += loss.item()\n",
        "    print(f\"Epoch {epoch+1}, Loss: {running_loss/len(trainloader)}\")\n",
        "# 5. Evaluate Performance # This line was causing indentation issues. Commented it out.\n",
        "correct = 0\n",
        "total = 0\n",
        "with torch.no_grad():\n",
        "    # Indented the for loop to be within the 'with' block\n",
        "    for images, labels in testloader:\n",
        "        outputs = model(images)\n",
        "        _, predicted = torch.max(outputs, 1)\n",
        "        total += labels.size(0)\n",
        "        correct += (predicted == labels).sum().item()\n",
        "print(f\"Test Accuracy: {100 * correct / total:.2f}%\")"
      ],
      "cell_type": "code",
      "metadata": {
        "colab": {
          "base_uri": "https://localhost:8080/"
        },
        "id": "DylbpTEOJmTE",
        "outputId": "4c348a2e-7022-4ba8-caaa-14d1ca287654"
      },
      "execution_count": null,
      "outputs": [
        {
          "output_type": "stream",
          "name": "stdout",
          "text": [
            "Epoch 1, Loss: 0.0235165799172321\n",
            "Epoch 2, Loss: 0.016732894892697185\n",
            "Test Accuracy: 99.16%\n"
          ]
        }
      ]
    },
    {
      "source": [
        "def count_params(model):\n",
        "    \"\"\"Counts the number of trainable parameters in a PyTorch model.\n",
        "\n",
        "    Args:\n",
        "        model: A PyTorch nn.Module object.\n",
        "\n",
        "    Returns:\n",
        "        The total number of trainable parameters in the model.\n",
        "    \"\"\"\n",
        "    return sum(p.numel() for p in model.parameters() if p.requires_grad)\n",
        "\n",
        "#Compare model complexities\n",
        "mnist_params = count_params(model)  # Call the function to get parameter count\n",
        "cifar_params = count_params(model_cifar) # Call the function to get parameter count\n",
        "\n",
        "print(f\"MNIST CNN Parameters: {mnist_params}\")\n",
        "print(f\"CIFAR-10 CNN Parameters: {cifar_params}\")"
      ],
      "cell_type": "code",
      "metadata": {
        "colab": {
          "base_uri": "https://localhost:8080/"
        },
        "id": "vAgOtnpIvTN_",
        "outputId": "4f8b95d1-fa21-4f59-fd45-7baf8d7fe8a6"
      },
      "execution_count": 76,
      "outputs": [
        {
          "output_type": "stream",
          "name": "stdout",
          "text": [
            "MNIST CNN Parameters: 421642\n",
            "CIFAR-10 CNN Parameters: 136874\n"
          ]
        }
      ]
    },
    {
      "cell_type": "code",
      "source": [
        "# Plot comparison\n",
        "plt.figure(figsize=(6,4))\n",
        "plt.bar(['MNIST CNN', 'CIFAR-10 CNN'], [mnist_params, cifar_params], color=['blue', 'red'])\n",
        "plt.ylabel('Number of Parameters')\n",
        "plt.title('Model Complexity Comparison: MNIST vs. CIFAR-10')\n",
        "plt.show()\n"
      ],
      "metadata": {
        "colab": {
          "base_uri": "https://localhost:8080/",
          "height": 391
        },
        "id": "yn-QPVMetmtJ",
        "outputId": "b68d1ba5-41d0-49f9-a883-511572c89c67"
      },
      "execution_count": 77,
      "outputs": [
        {
          "output_type": "display_data",
          "data": {
            "text/plain": [
              "<Figure size 600x400 with 1 Axes>"
            ],
            "image/png": "[encoded data removed]"
          },
          "metadata": {}
        }
      ]
    }
  ]
}